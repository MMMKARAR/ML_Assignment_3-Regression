{
 "cells": [
  {
   "cell_type": "markdown",
   "id": "eaff0e27-fd08-45fe-96a9-41905d69a2e3",
   "metadata": {},
   "source": [
    "### ASSIGNMENT 3 - REGRESSION "
   ]
  },
  {
   "cell_type": "markdown",
   "id": "b9067944-beb0-4fe9-9ae1-48513950b674",
   "metadata": {},
   "source": [
    "** Objective:**\n",
    "This assignment aims to assess your understanding of regression techniques in supervised learning by applying them to a real-world dataset."
   ]
  },
  {
   "cell_type": "markdown",
   "id": "4c8e2636-ecec-4983-a687-38367bb53b9b",
   "metadata": {},
   "source": [
    "**Dataset:**\n",
    "The California Housing dataset from the sklearn library is used. It includes information about house features in California and their median prices."
   ]
  },
  {
   "cell_type": "code",
   "execution_count": 1,
   "id": "39048154-7ae0-47d1-98a9-f34935c43f2d",
   "metadata": {},
   "outputs": [],
   "source": [
    "import warnings\n",
    "import sys\n",
    "if not sys.warnoptions:\n",
    "    warnings.simplefilter(\"ignore\")"
   ]
  },
  {
   "cell_type": "code",
   "execution_count": 2,
   "id": "bb198212-d21d-4603-aedc-bf3b396a9921",
   "metadata": {},
   "outputs": [],
   "source": [
    "import pandas as pd\n",
    "import numpy as np\n",
    "import matplotlib.pyplot as plt\n",
    "import seaborn as sns"
   ]
  },
  {
   "cell_type": "markdown",
   "id": "1777f0bc-7a82-42ff-8716-1206b4dab40e",
   "metadata": {},
   "source": [
    "## 1. Loading and Preprocessing: \n",
    "\n",
    "Load the California Housing dataset using the fetch_california_housing function from sklearn.\n",
    "Convert the dataset into a pandas DataFrame for easier handling.\n",
    "Check for missing values and handle them if any are found.\n",
    "Perform feature scaling (e.g., standardization) to ensure the data is properly prepared for regression models.\n",
    "Explain the preprocessing steps and why they are important for this dataset."
   ]
  },
  {
   "cell_type": "code",
   "execution_count": 3,
   "id": "1f05628a-8541-4af9-9995-e795a71dd802",
   "metadata": {},
   "outputs": [
    {
     "name": "stdout",
     "output_type": "stream",
     "text": [
      "Initial Dataset:\n",
      "   MedInc  HouseAge  AveRooms  AveBedrms  Population  AveOccup  Latitude  \\\n",
      "0  8.3252      41.0  6.984127   1.023810       322.0  2.555556     37.88   \n",
      "1  8.3014      21.0  6.238137   0.971880      2401.0  2.109842     37.86   \n",
      "2  7.2574      52.0  8.288136   1.073446       496.0  2.802260     37.85   \n",
      "3  5.6431      52.0  5.817352   1.073059       558.0  2.547945     37.85   \n",
      "4  3.8462      52.0  6.281853   1.081081       565.0  2.181467     37.85   \n",
      "\n",
      "   Longitude  \n",
      "0    -122.23  \n",
      "1    -122.22  \n",
      "2    -122.24  \n",
      "3    -122.25  \n",
      "4    -122.25  \n",
      "\n",
      "Initial Target Dataset:\n",
      "0    4.526\n",
      "1    3.585\n",
      "2    3.521\n",
      "3    3.413\n",
      "4    3.422\n",
      "dtype: float64\n"
     ]
    }
   ],
   "source": [
    "from sklearn.datasets import fetch_california_housing\n",
    "\n",
    "# Load the California Housing dataset\n",
    "data = fetch_california_housing()\n",
    "\n",
    "# Convert the dataset into a pandas DataFrame\n",
    "X = pd.DataFrame(data.data, columns=data.feature_names)\n",
    "Y = pd.Series(data.target)\n",
    "\n",
    "# Display the first few rows of the dataset\n",
    "print(\"Initial Dataset:\")\n",
    "print(X.head())\n",
    "print(\"\\nInitial Target Dataset:\")\n",
    "print(Y.head())"
   ]
  },
  {
   "cell_type": "code",
   "execution_count": 4,
   "id": "092ba46f-04ad-43f6-821c-1babb9e96a0d",
   "metadata": {},
   "outputs": [
    {
     "name": "stdout",
     "output_type": "stream",
     "text": [
      "Feature properties of the dataset is:\n",
      "\t\n",
      "<class 'pandas.core.frame.DataFrame'>\n",
      "RangeIndex: 20640 entries, 0 to 20639\n",
      "Data columns (total 8 columns):\n",
      " #   Column      Non-Null Count  Dtype  \n",
      "---  ------      --------------  -----  \n",
      " 0   MedInc      20640 non-null  float64\n",
      " 1   HouseAge    20640 non-null  float64\n",
      " 2   AveRooms    20640 non-null  float64\n",
      " 3   AveBedrms   20640 non-null  float64\n",
      " 4   Population  20640 non-null  float64\n",
      " 5   AveOccup    20640 non-null  float64\n",
      " 6   Latitude    20640 non-null  float64\n",
      " 7   Longitude   20640 non-null  float64\n",
      "dtypes: float64(8)\n",
      "memory usage: 1.3 MB\n",
      "\n",
      "Feature property of Target Dataset:\n",
      "<class 'pandas.core.series.Series'>\n",
      "RangeIndex: 20640 entries, 0 to 20639\n",
      "Series name: None\n",
      "Non-Null Count  Dtype  \n",
      "--------------  -----  \n",
      "20640 non-null  float64\n",
      "dtypes: float64(1)\n",
      "memory usage: 161.4 KB\n"
     ]
    }
   ],
   "source": [
    "print(\"Feature properties of the dataset is:\")\n",
    "print(\"\\t\")\n",
    "X.info()\n",
    "print(\"\\nFeature property of Target Dataset:\")\n",
    "Y.info()"
   ]
  },
  {
   "cell_type": "code",
   "execution_count": 5,
   "id": "e4fe52df-6d68-4f8b-9ecf-764c9e92063b",
   "metadata": {},
   "outputs": [
    {
     "name": "stdout",
     "output_type": "stream",
     "text": [
      "Statistical Analysis of the dataset\n",
      "\t\n"
     ]
    },
    {
     "data": {
      "text/html": [
       "<div>\n",
       "<style scoped>\n",
       "    .dataframe tbody tr th:only-of-type {\n",
       "        vertical-align: middle;\n",
       "    }\n",
       "\n",
       "    .dataframe tbody tr th {\n",
       "        vertical-align: top;\n",
       "    }\n",
       "\n",
       "    .dataframe thead th {\n",
       "        text-align: right;\n",
       "    }\n",
       "</style>\n",
       "<table border=\"1\" class=\"dataframe\">\n",
       "  <thead>\n",
       "    <tr style=\"text-align: right;\">\n",
       "      <th></th>\n",
       "      <th>MedInc</th>\n",
       "      <th>HouseAge</th>\n",
       "      <th>AveRooms</th>\n",
       "      <th>AveBedrms</th>\n",
       "      <th>Population</th>\n",
       "      <th>AveOccup</th>\n",
       "      <th>Latitude</th>\n",
       "      <th>Longitude</th>\n",
       "    </tr>\n",
       "  </thead>\n",
       "  <tbody>\n",
       "    <tr>\n",
       "      <th>count</th>\n",
       "      <td>20640.000000</td>\n",
       "      <td>20640.000000</td>\n",
       "      <td>20640.000000</td>\n",
       "      <td>20640.000000</td>\n",
       "      <td>20640.000000</td>\n",
       "      <td>20640.000000</td>\n",
       "      <td>20640.000000</td>\n",
       "      <td>20640.000000</td>\n",
       "    </tr>\n",
       "    <tr>\n",
       "      <th>mean</th>\n",
       "      <td>3.870671</td>\n",
       "      <td>28.639486</td>\n",
       "      <td>5.429000</td>\n",
       "      <td>1.096675</td>\n",
       "      <td>1425.476744</td>\n",
       "      <td>3.070655</td>\n",
       "      <td>35.631861</td>\n",
       "      <td>-119.569704</td>\n",
       "    </tr>\n",
       "    <tr>\n",
       "      <th>std</th>\n",
       "      <td>1.899822</td>\n",
       "      <td>12.585558</td>\n",
       "      <td>2.474173</td>\n",
       "      <td>0.473911</td>\n",
       "      <td>1132.462122</td>\n",
       "      <td>10.386050</td>\n",
       "      <td>2.135952</td>\n",
       "      <td>2.003532</td>\n",
       "    </tr>\n",
       "    <tr>\n",
       "      <th>min</th>\n",
       "      <td>0.499900</td>\n",
       "      <td>1.000000</td>\n",
       "      <td>0.846154</td>\n",
       "      <td>0.333333</td>\n",
       "      <td>3.000000</td>\n",
       "      <td>0.692308</td>\n",
       "      <td>32.540000</td>\n",
       "      <td>-124.350000</td>\n",
       "    </tr>\n",
       "    <tr>\n",
       "      <th>25%</th>\n",
       "      <td>2.563400</td>\n",
       "      <td>18.000000</td>\n",
       "      <td>4.440716</td>\n",
       "      <td>1.006079</td>\n",
       "      <td>787.000000</td>\n",
       "      <td>2.429741</td>\n",
       "      <td>33.930000</td>\n",
       "      <td>-121.800000</td>\n",
       "    </tr>\n",
       "    <tr>\n",
       "      <th>50%</th>\n",
       "      <td>3.534800</td>\n",
       "      <td>29.000000</td>\n",
       "      <td>5.229129</td>\n",
       "      <td>1.048780</td>\n",
       "      <td>1166.000000</td>\n",
       "      <td>2.818116</td>\n",
       "      <td>34.260000</td>\n",
       "      <td>-118.490000</td>\n",
       "    </tr>\n",
       "    <tr>\n",
       "      <th>75%</th>\n",
       "      <td>4.743250</td>\n",
       "      <td>37.000000</td>\n",
       "      <td>6.052381</td>\n",
       "      <td>1.099526</td>\n",
       "      <td>1725.000000</td>\n",
       "      <td>3.282261</td>\n",
       "      <td>37.710000</td>\n",
       "      <td>-118.010000</td>\n",
       "    </tr>\n",
       "    <tr>\n",
       "      <th>max</th>\n",
       "      <td>15.000100</td>\n",
       "      <td>52.000000</td>\n",
       "      <td>141.909091</td>\n",
       "      <td>34.066667</td>\n",
       "      <td>35682.000000</td>\n",
       "      <td>1243.333333</td>\n",
       "      <td>41.950000</td>\n",
       "      <td>-114.310000</td>\n",
       "    </tr>\n",
       "  </tbody>\n",
       "</table>\n",
       "</div>"
      ],
      "text/plain": [
       "             MedInc      HouseAge      AveRooms     AveBedrms    Population  \\\n",
       "count  20640.000000  20640.000000  20640.000000  20640.000000  20640.000000   \n",
       "mean       3.870671     28.639486      5.429000      1.096675   1425.476744   \n",
       "std        1.899822     12.585558      2.474173      0.473911   1132.462122   \n",
       "min        0.499900      1.000000      0.846154      0.333333      3.000000   \n",
       "25%        2.563400     18.000000      4.440716      1.006079    787.000000   \n",
       "50%        3.534800     29.000000      5.229129      1.048780   1166.000000   \n",
       "75%        4.743250     37.000000      6.052381      1.099526   1725.000000   \n",
       "max       15.000100     52.000000    141.909091     34.066667  35682.000000   \n",
       "\n",
       "           AveOccup      Latitude     Longitude  \n",
       "count  20640.000000  20640.000000  20640.000000  \n",
       "mean       3.070655     35.631861   -119.569704  \n",
       "std       10.386050      2.135952      2.003532  \n",
       "min        0.692308     32.540000   -124.350000  \n",
       "25%        2.429741     33.930000   -121.800000  \n",
       "50%        2.818116     34.260000   -118.490000  \n",
       "75%        3.282261     37.710000   -118.010000  \n",
       "max     1243.333333     41.950000   -114.310000  "
      ]
     },
     "execution_count": 5,
     "metadata": {},
     "output_type": "execute_result"
    }
   ],
   "source": [
    "print(\"Statistical Analysis of the dataset\")\n",
    "print(\"\\t\")\n",
    "X.describe()"
   ]
  },
  {
   "cell_type": "code",
   "execution_count": 6,
   "id": "b1f2bd26-6d9c-4b56-a9cd-eb9063c21ce8",
   "metadata": {},
   "outputs": [
    {
     "name": "stdout",
     "output_type": "stream",
     "text": [
      "Statistical Analysis of Target Dataset:\n"
     ]
    },
    {
     "data": {
      "text/plain": [
       "count    20640.000000\n",
       "mean         2.068558\n",
       "std          1.153956\n",
       "min          0.149990\n",
       "25%          1.196000\n",
       "50%          1.797000\n",
       "75%          2.647250\n",
       "max          5.000010\n",
       "dtype: float64"
      ]
     },
     "execution_count": 6,
     "metadata": {},
     "output_type": "execute_result"
    }
   ],
   "source": [
    "print(\"Statistical Analysis of Target Dataset:\")\n",
    "Y.describe()\n"
   ]
  },
  {
   "cell_type": "code",
   "execution_count": 7,
   "id": "4fd6c3bd-2f96-4b63-a094-d48cdb5b61a7",
   "metadata": {},
   "outputs": [
    {
     "name": "stdout",
     "output_type": "stream",
     "text": [
      "\n",
      "Missing Values:\n",
      "MedInc        0\n",
      "HouseAge      0\n",
      "AveRooms      0\n",
      "AveBedrms     0\n",
      "Population    0\n",
      "AveOccup      0\n",
      "Latitude      0\n",
      "Longitude     0\n",
      "dtype: int64\n"
     ]
    }
   ],
   "source": [
    "# Step 1: Check for missing values\n",
    "missing_values = X.isnull().sum()\n",
    "print(\"\\nMissing Values:\")\n",
    "print(missing_values)"
   ]
  },
  {
   "cell_type": "code",
   "execution_count": 8,
   "id": "b3ee7d8a-5a70-40fa-bc2c-81f0c0c5786c",
   "metadata": {},
   "outputs": [
    {
     "name": "stdout",
     "output_type": "stream",
     "text": [
      "\n",
      "Missing Values:\n",
      "0\n"
     ]
    }
   ],
   "source": [
    "missing_values = Y.isnull().sum()\n",
    "print(\"\\nMissing Values:\")\n",
    "print(missing_values)"
   ]
  },
  {
   "cell_type": "code",
   "execution_count": 9,
   "id": "6beaa732-096f-424d-a898-7c4d5fd66b47",
   "metadata": {},
   "outputs": [
    {
     "data": {
      "text/plain": [
       "np.int64(0)"
      ]
     },
     "execution_count": 9,
     "metadata": {},
     "output_type": "execute_result"
    }
   ],
   "source": [
    "# Find duplicates in Initial dataset\n",
    "X.duplicated().sum()"
   ]
  },
  {
   "cell_type": "code",
   "execution_count": 10,
   "id": "9fe9b536-cf25-4870-947f-dc75e1ef4929",
   "metadata": {},
   "outputs": [
    {
     "name": "stdout",
     "output_type": "stream",
     "text": [
      "\n",
      "Scaled Dataset:\n",
      "[[ 2.34476576  0.98214266  0.62855945 -0.15375759 -0.9744286  -0.04959654\n",
      "   1.05254828 -1.32783522]\n",
      " [ 2.33223796 -0.60701891  0.32704136 -0.26333577  0.86143887 -0.09251223\n",
      "   1.04318455 -1.32284391]\n",
      " [ 1.7826994   1.85618152  1.15562047 -0.04901636 -0.82077735 -0.02584253\n",
      "   1.03850269 -1.33282653]\n",
      " [ 0.93296751  1.85618152  0.15696608 -0.04983292 -0.76602806 -0.0503293\n",
      "   1.03850269 -1.33781784]\n",
      " [-0.012881    1.85618152  0.3447108  -0.03290586 -0.75984669 -0.08561576\n",
      "   1.03850269 -1.33781784]\n",
      " [ 0.08744664  1.85618152 -0.26972966  0.01466934 -0.89407076 -0.08961842\n",
      "   1.03850269 -1.33781784]\n",
      " [-0.11136631  1.85618152 -0.2009177  -0.3066332  -0.29271158 -0.0907249\n",
      "   1.03382082 -1.33781784]\n",
      " [-0.39513665  1.85618152 -0.25523193 -0.07354166 -0.23707923 -0.12347647\n",
      "   1.03382082 -1.33781784]\n",
      " [-0.94235915  1.06160074 -0.45870257  0.04425393 -0.19380963 -0.1004992\n",
      "   1.03382082 -1.34280914]\n",
      " [-0.09446958  1.85618152 -0.18528316 -0.22468709  0.1108437  -0.08650142\n",
      "   1.03382082 -1.33781784]]\n"
     ]
    }
   ],
   "source": [
    "# Step 2: Feature Scaling\n",
    "from sklearn.preprocessing import StandardScaler\n",
    "scaler = StandardScaler()\n",
    "scaled_X = scaler.fit_transform(X)\n",
    "\n",
    "# Display the scaled dataset\n",
    "print(\"\\nScaled Dataset:\")\n",
    "print(scaled_X[:10])"
   ]
  },
  {
   "cell_type": "code",
   "execution_count": 11,
   "id": "19db6dbe-4772-4b94-97ec-0598a3b13424",
   "metadata": {},
   "outputs": [
    {
     "name": "stdout",
     "output_type": "stream",
     "text": [
      "\n",
      "Training set shape of X:  (16512, 8)\n",
      "Test set shape of X: (4128, 8)\n",
      "\n",
      "Training set shape of Y (16512,)\n",
      "Test set shape of Y: (4128,)\n"
     ]
    }
   ],
   "source": [
    "from sklearn.model_selection import train_test_split\n",
    "\n",
    "X_train, X_test, Y_train, Y_test = train_test_split(scaled_X, Y, test_size=0.2, random_state=42)\n",
    "\n",
    "print(\"\\nTraining set shape of X: \", X_train.shape)\n",
    "print(\"Test set shape of X:\", X_test.shape)\n",
    "print(\"\\nTraining set shape of Y\", Y_train.shape)\n",
    "print(\"Test set shape of Y:\", Y_test.shape)"
   ]
  },
  {
   "cell_type": "markdown",
   "id": "d47e334e-2cc3-49dc-9eca-7e01444b796e",
   "metadata": {},
   "source": [
    "### 1. Loading and Preprocessing: \n",
    "\n",
    "Load the California Housing dataset using the fetch_california_housing function from sklearn.\n",
    "Convert the dataset into a pandas DataFrame for easier handling.\n",
    "Check for missing values and handle them if any are found.\n",
    "Perform feature scaling (e.g., standardization) to ensure the data is properly prepared for regression models.\n",
    "Explain the preprocessing steps and why they are important for this dataset."
   ]
  },
  {
   "cell_type": "markdown",
   "id": "25f2df1b-44b9-4882-af1b-453b3bcb465b",
   "metadata": {},
   "source": [
    "## 2. Regression Algorithm Implementation \n",
    "\n",
    " Steps:\n",
    "1. **Algorithms to Implement:**\n",
    "   - Linear Regression  \n",
    "   - Decision Tree Regressor  \n",
    "   - Random Forest Regressor  \n",
    "   - Gradient Boosting Regressor  \n",
    "   - Support Vector Regressor (SVR)  \n",
    "\n",
    "2. **For Each Algorithm:**\n",
    "   - Provide a brief explanation of how it works.  \n",
    "   - Explain why it might be a good fit for this dataset.  \n",
    "\n",
    "---\n",
    "\n",
    "## 3. Model Evaluation and Comparison\n",
    "\n",
    " Steps:\n",
    "1. **Evaluate Performance Using Metrics:**\n",
    "   - Mean Squared Error (MSE)  \n",
    "   - Mean Absolute Error (MAE)  \n",
    "   - R-squared Score (R²)  \n",
    "\n",
    "2. **Compare Results:**\n",
    "   - Identify the best-performing algorithm and justify why it performed well.  \n",
    "   - Highlight the worst-performing algorithm and explain its shortcomings.  \n"
   ]
  },
  {
   "cell_type": "code",
   "execution_count": 12,
   "id": "95d2bd33-ef3d-46e4-ba0d-9c42f042d33c",
   "metadata": {},
   "outputs": [
    {
     "name": "stdout",
     "output_type": "stream",
     "text": [
      "\n",
      "Linear Regression\n",
      "Mean Squared Error: 0.5558915986952444\n",
      "Mean Absolute Error: 0.5332001304956565\n",
      "R² Score: 0.5757877060324508\n",
      "\n",
      "Decision Tree Regressor\n",
      "Mean Squared Error: 0.4942716777366763\n",
      "Mean Absolute Error: 0.4537843265503876\n",
      "R² Score: 0.6228111330554302\n",
      "\n",
      "Random Forest Regressor\n",
      "Mean Squared Error: 0.25549776668540763\n",
      "Mean Absolute Error: 0.32761306601259704\n",
      "R² Score: 0.805024407701793\n",
      "\n",
      "Gradient Boosting Regressor\n",
      "Mean Squared Error: 0.29399901242474274\n",
      "Mean Absolute Error: 0.37165044848436773\n",
      "R² Score: 0.7756433164710084\n",
      "\n",
      "Support Vector Regressor\n",
      "Mean Squared Error: 0.3551984619989409\n",
      "Mean Absolute Error: 0.3977630963437857\n",
      "R² Score: 0.728940759795647\n"
     ]
    }
   ],
   "source": [
    "from sklearn.linear_model import LinearRegression\n",
    "from sklearn.tree import DecisionTreeRegressor\n",
    "from sklearn.ensemble import RandomForestRegressor, GradientBoostingRegressor\n",
    "from sklearn.svm import SVR\n",
    "from sklearn.metrics import mean_squared_error, mean_absolute_error, r2_score\n",
    "\n",
    "# Regression Algorithms Implementation\n",
    "models = {\n",
    "    \"Linear Regression\": LinearRegression(),\n",
    "    \"Decision Tree Regressor\": DecisionTreeRegressor(random_state=42),\n",
    "    \"Random Forest Regressor\": RandomForestRegressor(random_state=42),\n",
    "    \"Gradient Boosting Regressor\": GradientBoostingRegressor(random_state=42),\n",
    "    \"Support Vector Regressor\": SVR()\n",
    "}\n",
    "\n",
    "# Train and evaluate each model\n",
    "for name, model in models.items():\n",
    "    print(f\"\\n{name}\")\n",
    "    model.fit(X_train, Y_train)\n",
    "    Y_pred = model.predict(X_test)\n",
    "    Y_pred\n",
    "\n",
    "    # Calculate performance metrics\n",
    "    mse = mean_squared_error(Y_test, Y_pred)\n",
    "    mae = mean_absolute_error(Y_test, Y_pred)\n",
    "    r2 = r2_score(Y_test, Y_pred)\n",
    "\n",
    "    # Display results\n",
    "    print(f\"Mean Squared Error: {mse}\")\n",
    "    print(f\"Mean Absolute Error: {mae}\")\n",
    "    print(f\"R² Score: {r2}\")"
   ]
  },
  {
   "cell_type": "markdown",
   "id": "7ea1878a-0f88-49e7-9968-77e916cb7eb4",
   "metadata": {},
   "source": [
    "#### Explanations: ###\n",
    "### 1. Linear Regression\n",
    "How it works:\n",
    "Linear Regression models the relationship between the features (independent variables) and the target (dependent variable) by fitting a linear equation (a straight line or hyperplane). It minimizes the sum of squared residuals to find the best fit.\n",
    "\n",
    "**Suitability:**\n",
    "It works well when there is a linear relationship between features and the target. It is suitable for the California Housing dataset if housing prices (target) are influenced by independent variables in a linear manner. However, it may not capture complex interactions between features.\n",
    "\n",
    "### 2. Decision Tree Regressor\n",
    "How it works:\n",
    "A Decision Tree splits the data into subsets using feature thresholds. Each split reduces the error in predicting the target. The process continues until a stopping criterion (e.g., minimum samples per leaf) is met.\n",
    "\n",
    "**Suitability:**\n",
    "It captures non-linear relationships and feature interactions. This makes it effective for the California Housing dataset, where housing prices are influenced by non-linear factors like location, population density, and median income.\n",
    "\n",
    "### 3. Random Forest Regressor\n",
    "How it works:\n",
    "Random Forest combines multiple Decision Trees, each trained on random subsets of data and features. It averages the predictions from all the trees to produce a more stable and accurate result, reducing overfitting.\n",
    "\n",
    "**Suitability:**\n",
    "It handles non-linearity and high-dimensional data well. This makes it suitable for the California Housing dataset, as it can manage large feature spaces and capture complex relationships between features.\n",
    "\n",
    "### 4. Gradient Boosting Regressor\n",
    "How it works:\n",
    "Gradient Boosting builds models sequentially, where each model corrects the errors made by the previous one. It optimizes a loss function (e.g., Mean Squared Error) using gradient descent.\n",
    "\n",
    "**Suitability:**\n",
    "It excels at capturing complex relationships with fine-tuned models. It is suitable for the California Housing dataset when high accuracy is the goal, as it minimizes errors from previous models effectively.\n",
    "\n",
    "### 5. Support Vector Regressor (SVR)\n",
    "How it works:\n",
    "SVR finds a hyperplane (or curve) that fits the data points within a specified margin of tolerance (epsilon). Kernel functions can be applied to map the data to higher dimensions, enabling the model to capture non-linear relationships.\n",
    "\n",
    "**Suitability:**\n",
    "It works well with small- to medium-sized datasets and handles non-linear relationships effectively. It is suitable for the California Housing dataset to capture specific non-linear patterns, though it may struggle with larger datasets due to computational complexity.\n",
    "\n",
    "#### Model Evaluation\n",
    "Best Performing Model: Random Forest Regressor\n",
    "Mean Squared Error (MSE): 0.2555 (lowest among all models)\n",
    "Mean Absolute Error (MAE): 0.3276 (lowest among all models)\n",
    "R² Score: 0.8050 (highest among all models)\n",
    "Explanation:\n",
    "The Random Forest Regressor achieved the highest R² score, indicating the best fit to the data and explaining the highest proportion of variance in the target variable. It also has the lowest MSE and MAE, showing that its predictions are closest to the actual values on average. This combination of high accuracy and low error makes it the best-performing model.\n",
    "\n",
    "Worst Performing Model: Linear Regression\n",
    "Mean Squared Error (MSE): 0.5559 (highest among all models)\n",
    "Mean Absolute Error (MAE): 0.5332 (highest among all models)\n",
    "R² Score: 0.5758 (lowest among all models)\n",
    "Explanation:\n",
    "The Linear Regression model has the lowest R² score, meaning it explains the least variance in the target variable. It also has the highest MSE and MAE, indicating that its predictions are the farthest from the actual values on average compared to other models. This poor performance in both accuracy and error metrics makes it the worst-performing model for this dataset."
   ]
  }
 ],
 "metadata": {
  "kernelspec": {
   "display_name": "Python 3 (ipykernel)",
   "language": "python",
   "name": "python3"
  },
  "language_info": {
   "codemirror_mode": {
    "name": "ipython",
    "version": 3
   },
   "file_extension": ".py",
   "mimetype": "text/x-python",
   "name": "python",
   "nbconvert_exporter": "python",
   "pygments_lexer": "ipython3",
   "version": "3.10.9"
  }
 },
 "nbformat": 4,
 "nbformat_minor": 5
}
